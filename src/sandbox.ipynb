{
 "metadata": {
  "name": "sandbox"
 },
 "nbformat": 3,
 "nbformat_minor": 0,
 "worksheets": [
  {
   "cells": [
    {
     "cell_type": "code",
     "collapsed": false,
     "input": [
      "%pylab inline"
     ],
     "language": "python",
     "metadata": {},
     "outputs": [
      {
       "output_type": "stream",
       "stream": "stdout",
       "text": [
        "\n",
        "Welcome to pylab, a matplotlib-based Python environment [backend: module://IPython.zmq.pylab.backend_inline].\n",
        "For more information, type 'help(pylab)'.\n"
       ]
      }
     ],
     "prompt_number": 169
    },
    {
     "cell_type": "code",
     "collapsed": false,
     "input": [
      "from IPython.display import display\n",
      "from IPython.display import Image"
     ],
     "language": "python",
     "metadata": {},
     "outputs": [],
     "prompt_number": 100
    },
    {
     "cell_type": "code",
     "collapsed": false,
     "input": [
      "Image(url=\"http://upload.wikimedia.org/wikipedia/commons/thumb/0/0b/Gravitationell-lins-4.jpg/290px-Gravitationell-lins-4.jpg\")"
     ],
     "language": "python",
     "metadata": {},
     "outputs": [
      {
       "html": [
        "<img src=\"http://upload.wikimedia.org/wikipedia/commons/thumb/0/0b/Gravitationell-lins-4.jpg/290px-Gravitationell-lins-4.jpg\"/>"
       ],
       "output_type": "pyout",
       "prompt_number": 220,
       "text": [
        "<IPython.core.display.Image at 0x12200ac50>"
       ]
      }
     ],
     "prompt_number": 220
    },
    {
     "cell_type": "code",
     "collapsed": false,
     "input": [
      "Image(url='http://www.space2099theseries.com/blogs/attachment46d1326840084-chandra-observatory-finds-largest-galaxy-cluster-universe-clusters_xray.jpg')"
     ],
     "language": "python",
     "metadata": {},
     "outputs": [
      {
       "html": [
        "<img src=\"http://www.space2099theseries.com/blogs/attachment46d1326840084-chandra-observatory-finds-largest-galaxy-cluster-universe-clusters_xray.jpg\"/>"
       ],
       "output_type": "pyout",
       "prompt_number": 45,
       "text": [
        "<IPython.core.display.Image at 0x10ccf0510>"
       ]
      }
     ],
     "prompt_number": 45
    },
    {
     "cell_type": "code",
     "collapsed": false,
     "input": [
      "data= loadtxt('../data/MDR1_BDMW_snap_85_z_200.0_240.0.csv', comments='#', skiprows=37, delimiter=',')"
     ],
     "language": "python",
     "metadata": {},
     "outputs": [],
     "prompt_number": 221
    },
    {
     "cell_type": "code",
     "collapsed": false,
     "input": [
      "x_dir = data[:,23]\n",
      "y_dir = data[:,24]\n",
      "z_dir = data[:,25]\n",
      "x_pos = data[:,4]\n",
      "y_pos = data[:,5]\n",
      "z_pos = data[:,6]\n",
      "\n",
      "print shape(data)"
     ],
     "language": "python",
     "metadata": {},
     "outputs": [
      {
       "output_type": "stream",
       "stream": "stdout",
       "text": [
        "(1750, 30)\n"
       ]
      }
     ],
     "prompt_number": 222
    },
    {
     "cell_type": "code",
     "collapsed": false,
     "input": [
      "n_points = size(x_pos)\n",
      "dist_pair_2D = empty((0))\n",
      "dist_pair_3D = empty((0))\n",
      "cos_theta_pair_all_2D = empty((0))\n",
      "cos_theta_pair_all_3D = empty((0))"
     ],
     "language": "python",
     "metadata": {},
     "outputs": [],
     "prompt_number": 223
    },
    {
     "cell_type": "code",
     "collapsed": false,
     "input": [
      "for i in range(n_points-1):\n",
      "    my_pos_x = x_pos[i]\n",
      "    my_pos_y = y_pos[i]\n",
      "    my_pos_z = y_pos[i]\n",
      "    delta_x = 500.0 - my_pos_x\n",
      "    delta_y = 500.0 - my_pos_y\n",
      "    delta_z = 500.0 - my_pos_z\n",
      "    my_pos_x = my_pos_x + delta_x\n",
      "    my_pos_y = my_pos_y + delta_y\n",
      "    my_pos_z = my_pos_z + delta_z\n",
      "    tmp_pos_x = (x_pos[i+1:] + delta_x)%1000.0\n",
      "    tmp_pos_y = (y_pos[i+1:] + delta_y)%1000.0\n",
      "    tmp_pos_z = (z_pos[i+1:] + delta_z)%1000.0\n",
      "\n",
      "\n",
      "    tmp_dir_x = x_dir[i+1:]\n",
      "    tmp_dir_y = y_dir[i+1:]\n",
      "    tmp_dir_z = z_dir[i+1:]\n",
      "\n",
      "    my_dir_x = x_dir[i]\n",
      "    my_dir_y = y_dir[i]\n",
      "    my_dir_z = z_dir[i]\n",
      "\n",
      "    norm_all = sqrt(tmp_dir_x**2 + tmp_dir_y**2)\n",
      "    my_norm = sqrt(my_dir_x**2 + my_dir_y**2)\n",
      "\n",
      "    cos_theta_pair_2D = (tmp_dir_x*my_dir_x + tmp_dir_y*my_dir_y)/(norm_all * my_norm)\n",
      "    cos_theta_pair_3D = (tmp_dir_x*my_dir_x + tmp_dir_y*my_dir_y + tmp_dir_z*my_dir_z)\n",
      "    radius_2D = sqrt((my_pos_x - tmp_pos_x)**2 + (my_pos_y-tmp_pos_y)**2)\n",
      "    radius_3D = sqrt((my_pos_x - tmp_pos_x)**2 + (my_pos_y-tmp_pos_y)**2 + (my_pos_z-tmp_pos_z)**2)\n",
      "\n",
      "    \n",
      "    dist_pair_2D = append(dist_pair_2D, radius_2D)\n",
      "    cos_theta_pair_all_2D=append(cos_theta_pair_all_2D, cos_theta_pair_2D**2)\n",
      "    dist_pair_3D = append(dist_pair_3D, radius_3D)\n",
      "    cos_theta_pair_all_3D=append(cos_theta_pair_all_3D, cos_theta_pair_3D**2)"
     ],
     "language": "python",
     "metadata": {},
     "outputs": [],
     "prompt_number": 224
    },
    {
     "cell_type": "code",
     "collapsed": false,
     "input": [
      "min_r = 1.0\n",
      "max_r = 2.0\n",
      "index = where((dist_pair_2D<max_r) & (dist_pair_2D>min_r))\n",
      "print size(index)\n",
      "cos_theta_pair_tmp = cos_theta_pair_all_2D[index]\n",
      "print mean(cos_theta_pair_tmp), std(cos_theta_pair_tmp)\n",
      "n, bins, patches = hist(cos_theta_pair_tmp, 20, normed=1, color = 'silver')"
     ],
     "language": "python",
     "metadata": {},
     "outputs": [
      {
       "output_type": "stream",
       "stream": "stdout",
       "text": [
        "114\n",
        "0.533608057292 0.340103370168\n"
       ]
      },
      {
       "output_type": "display_data",
       "png": "[encoded data removed]",
       "text": [
        "<matplotlib.figure.Figure at 0x122bd5550>"
       ]
      }
     ],
     "prompt_number": 256
    },
    {
     "cell_type": "code",
     "collapsed": false,
     "input": [
      "min_r = 0.0\n",
      "max_r = 2.0\n",
      "index = where((dist_pair_2D<max_r) & (dist_pair_2D>min_r))\n",
      "print size(index)\n",
      "cos_theta_pair_tmp = cos_theta_pair_all_3D[index]\n",
      "print mean(cos_theta_pair_tmp), std(cos_theta_pair_tmp)\n",
      "n, bins, patches = hist(cos_theta_pair_tmp, 20, normed=1, color = 'silver')"
     ],
     "language": "python",
     "metadata": {},
     "outputs": [
      {
       "output_type": "stream",
       "stream": "stdout",
       "text": [
        "427\n",
        "0.41776917785 0.324956324475\n"
       ]
      },
      {
       "output_type": "display_data",
       "png": "[encoded data removed]",
       "text": [
        "<matplotlib.figure.Figure at 0x10df6e910>"
       ]
      }
     ],
     "prompt_number": 257
    },
    {
     "cell_type": "code",
     "collapsed": false,
     "input": [
      "n, bins, patches = hist(dist_pair, 20, normed=1, color = 'silver')"
     ],
     "language": "python",
     "metadata": {},
     "outputs": [
      {
       "output_type": "display_data",
       "png": "[encoded data removed]",
       "text": [
        "<matplotlib.figure.Figure at 0x10dd33c10>"
       ]
      }
     ],
     "prompt_number": 154
    },
    {
     "cell_type": "code",
     "collapsed": false,
     "input": [
      "n_points = 200\n",
      "phi = 2.0*pi*random.random(n_points)\n",
      "theta = arccos((random.random(n_points)-0.5)*2.0)\n",
      "rand_x = sin(theta)*cos(phi)\n",
      "rand_y = sin(theta)*sin(phi)\n",
      "rand_z = cos(theta)"
     ],
     "language": "python",
     "metadata": {},
     "outputs": [],
     "prompt_number": 258
    },
    {
     "cell_type": "code",
     "collapsed": false,
     "input": [
      "cos_angle_3D = (rand_x[1:]*rand_x[0] + rand_y[1:]*rand_y[0] + rand_z[1:]*rand_z[0])**2"
     ],
     "language": "python",
     "metadata": {},
     "outputs": [],
     "prompt_number": 259
    },
    {
     "cell_type": "code",
     "collapsed": false,
     "input": [
      "n, bins, patches = hist(cos_angle_3D, 20, normed=1, color = 'silver')"
     ],
     "language": "python",
     "metadata": {},
     "outputs": [
      {
       "output_type": "display_data",
       "png": "[encoded data removed]",
       "text": [
        "<matplotlib.figure.Figure at 0x10e9c5210>"
       ]
      }
     ],
     "prompt_number": 260
    },
    {
     "cell_type": "code",
     "collapsed": false,
     "input": [
      "print mean(cos_angle)"
     ],
     "language": "python",
     "metadata": {},
     "outputs": [
      {
       "output_type": "stream",
       "stream": "stdout",
       "text": [
        "0.325216037308\n"
       ]
      }
     ],
     "prompt_number": 261
    },
    {
     "cell_type": "code",
     "collapsed": false,
     "input": [
      "norm_all = sqrt(rand_x[1:]**2 + rand_y[1:]**2)\n",
      "norm_one = sqrt(rand_x[0]**2 + rand_y[0]**2)\n",
      "cos_angle_2D = ((rand_x[1:]*rand_x[0] + rand_y[1:]*rand_y[0])/(norm_all * norm_one))**2"
     ],
     "language": "python",
     "metadata": {},
     "outputs": [],
     "prompt_number": 262
    },
    {
     "cell_type": "code",
     "collapsed": false,
     "input": [
      "n, bins, patches = hist(cos_angle_2D, 20, normed=1, color = 'silver')"
     ],
     "language": "python",
     "metadata": {},
     "outputs": [
      {
       "output_type": "display_data",
       "png": "[encoded data removed]",
       "text": [
        "<matplotlib.figure.Figure at 0x10df7aa90>"
       ]
      }
     ],
     "prompt_number": 255
    },
    {
     "cell_type": "code",
     "collapsed": false,
     "input": [],
     "language": "python",
     "metadata": {},
     "outputs": []
    }
   ],
   "metadata": {}
  }
 ]
}