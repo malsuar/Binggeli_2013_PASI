{
 "metadata": {
  "name": "sandbox"
 },
 "nbformat": 3,
 "nbformat_minor": 0,
 "worksheets": [
  {
   "cells": [
    {
     "cell_type": "code",
     "collapsed": false,
     "input": [
      "%pylab inline"
     ],
     "language": "python",
     "metadata": {},
     "outputs": [
      {
       "output_type": "stream",
       "stream": "stdout",
       "text": [
        "\n",
        "Welcome to pylab, a matplotlib-based Python environment [backend: module://IPython.zmq.pylab.backend_inline].\n",
        "For more information, type 'help(pylab)'.\n"
       ]
      }
     ],
     "prompt_number": 303
    },
    {
     "cell_type": "code",
     "collapsed": false,
     "input": [
      "from IPython.display import display\n",
      "from IPython.display import Image"
     ],
     "language": "python",
     "metadata": {},
     "outputs": [],
     "prompt_number": 304
    },
    {
     "cell_type": "code",
     "collapsed": false,
     "input": [
      "Image(url=\"http://upload.wikimedia.org/wikipedia/commons/thumb/0/0b/Gravitationell-lins-4.jpg/290px-Gravitationell-lins-4.jpg\")"
     ],
     "language": "python",
     "metadata": {},
     "outputs": [
      {
       "html": [
        "<img src=\"http://upload.wikimedia.org/wikipedia/commons/thumb/0/0b/Gravitationell-lins-4.jpg/290px-Gravitationell-lins-4.jpg\"/>"
       ],
       "output_type": "pyout",
       "prompt_number": 305,
       "text": [
        "<IPython.core.display.Image at 0x1198c6ad0>"
       ]
      }
     ],
     "prompt_number": 305
    },
    {
     "cell_type": "code",
     "collapsed": false,
     "input": [
      "Image(url='http://www.space2099theseries.com/blogs/attachment46d1326840084-chandra-observatory-finds-largest-galaxy-cluster-universe-clusters_xray.jpg')"
     ],
     "language": "python",
     "metadata": {},
     "outputs": [
      {
       "html": [
        "<img src=\"http://www.space2099theseries.com/blogs/attachment46d1326840084-chandra-observatory-finds-largest-galaxy-cluster-universe-clusters_xray.jpg\"/>"
       ],
       "output_type": "pyout",
       "prompt_number": 306,
       "text": [
        "<IPython.core.display.Image at 0x10df85150>"
       ]
      }
     ],
     "prompt_number": 306
    },
    {
     "cell_type": "code",
     "collapsed": false,
     "input": [
      "data= loadtxt('../data/MDR1_BDMW_snap_85_z_200.0_240.0.csv', comments='#', skiprows=37, delimiter=',')"
     ],
     "language": "python",
     "metadata": {},
     "outputs": [],
     "prompt_number": 435
    },
    {
     "cell_type": "code",
     "collapsed": false,
     "input": [
      "axis_ratio_2_1 = data[:,21]\n",
      "good_signal_id = where(axis_ratio_2_1[:]<0.7)\n",
      "data = data[good_signal_id[0],:]\n",
      "\n",
      "x_dir = data[:,23]\n",
      "y_dir = data[:,24]\n",
      "z_dir = data[:,25]\n",
      "x_pos = data[:,4]\n",
      "y_pos = data[:,5]\n",
      "z_pos = data[:,6]\n",
      "\n",
      "print shape(data)"
     ],
     "language": "python",
     "metadata": {},
     "outputs": [
      {
       "output_type": "stream",
       "stream": "stdout",
       "text": [
        "(719, 30)\n"
       ]
      }
     ],
     "prompt_number": 442
    },
    {
     "cell_type": "code",
     "collapsed": false,
     "input": [
      "def get_alignment_stats(x_pos, y_pos, z_pos, x_dir, y_dir, z_dir):\n",
      "    n_points = size(x_pos)\n",
      "    dist_pair_2D = empty((0))\n",
      "    dist_pair_3D = empty((0))\n",
      "    cos_theta_pair_all_2D = empty((0))\n",
      "    cos_theta_pair_all_3D = empty((0))\n",
      "    for i in range(n_points-1):\n",
      "        my_pos_x = x_pos[i]\n",
      "        my_pos_y = y_pos[i]\n",
      "        my_pos_z = y_pos[i]\n",
      "        delta_x = 500.0 - my_pos_x\n",
      "        delta_y = 500.0 - my_pos_y\n",
      "        delta_z = 500.0 - my_pos_z\n",
      "        my_pos_x = my_pos_x + delta_x\n",
      "        my_pos_y = my_pos_y + delta_y\n",
      "        my_pos_z = my_pos_z + delta_z\n",
      "        tmp_pos_x = (x_pos[i+1:] + delta_x)%1000.0\n",
      "        tmp_pos_y = (y_pos[i+1:] + delta_y)%1000.0\n",
      "        tmp_pos_z = (z_pos[i+1:] + delta_z)%1000.0\n",
      "\n",
      "        tmp_dir_x = x_dir[i+1:]\n",
      "        tmp_dir_y = y_dir[i+1:]\n",
      "        tmp_dir_z = z_dir[i+1:]\n",
      "\n",
      "        my_dir_x = x_dir[i]\n",
      "        my_dir_y = y_dir[i]\n",
      "        my_dir_z = z_dir[i]\n",
      "\n",
      "        norm_all = sqrt(tmp_dir_x**2 + tmp_dir_y**2)\n",
      "        my_norm = sqrt(my_dir_x**2 + my_dir_y**2)\n",
      "\n",
      "        cos_theta_pair_2D = (tmp_dir_x*my_dir_x + tmp_dir_y*my_dir_y)/(norm_all * my_norm)\n",
      "        cos_theta_pair_3D = (tmp_dir_x*my_dir_x + tmp_dir_y*my_dir_y + tmp_dir_z*my_dir_z)\n",
      "        radius_2D = sqrt((my_pos_x - tmp_pos_x)**2 + (my_pos_y-tmp_pos_y)**2)\n",
      "        radius_3D = sqrt((my_pos_x - tmp_pos_x)**2 + (my_pos_y-tmp_pos_y)**2 + (my_pos_z-tmp_pos_z)**2)\n",
      "\n",
      "        dist_pair_2D = append(dist_pair_2D, radius_2D)\n",
      "        cos_theta_pair_all_2D=append(cos_theta_pair_all_2D, cos_theta_pair_2D**2)\n",
      "        dist_pair_3D = append(dist_pair_3D, radius_3D)\n",
      "        cos_theta_pair_all_3D=append(cos_theta_pair_all_3D, cos_theta_pair_3D**2)\n",
      "    return [dist_pair_2D, cos_theta_pair_all_2D, dist_pair_3D, cos_theta_pair_all_3D]"
     ],
     "language": "python",
     "metadata": {},
     "outputs": [],
     "prompt_number": 437
    },
    {
     "cell_type": "code",
     "collapsed": false,
     "input": [
      "def get_pointing_stats(x_pos, y_pos, z_pos, x_dir, y_dir, z_dir):\n",
      "    n_points = size(x_pos)\n",
      "    dist_pair_2D = empty((0))\n",
      "    dist_pair_3D = empty((0))\n",
      "    cos_theta_pair_all_2D = empty((0))\n",
      "    cos_theta_pair_all_3D = empty((0))\n",
      "    for i in range(n_points-1):\n",
      "        my_pos_x = x_pos[i]\n",
      "        my_pos_y = y_pos[i]\n",
      "        my_pos_z = y_pos[i]\n",
      "        delta_x = 500.0 - my_pos_x\n",
      "        delta_y = 500.0 - my_pos_y\n",
      "        delta_z = 500.0 - my_pos_z\n",
      "        my_pos_x = my_pos_x + delta_x\n",
      "        my_pos_y = my_pos_y + delta_y\n",
      "        my_pos_z = my_pos_z + delta_z\n",
      "        tmp_pos_x = (x_pos[i+1:] + delta_x)%1000.0\n",
      "        tmp_pos_y = (y_pos[i+1:] + delta_y)%1000.0\n",
      "        tmp_pos_z = (z_pos[i+1:] + delta_z)%1000.0\n",
      "\n",
      "        tmp_dir_x = x_dir[i+1:]\n",
      "        tmp_dir_y = y_dir[i+1:]\n",
      "        tmp_dir_z = z_dir[i+1:]\n",
      "\n",
      "        my_dir_x = x_dir[i]\n",
      "        my_dir_y = y_dir[i]\n",
      "        my_dir_z = z_dir[i]\n",
      "\n",
      "        pointer_x = tmp_pos_x - my_pos_x\n",
      "        pointer_y = tmp_pos_y - my_pos_y\n",
      "        pointer_z = tmp_pos_z - my_pos_z\n",
      "        norm = sqrt(pointer_x**2 + pointer_y**2 + pointer_z**2)\n",
      "        pointer_x = pointer_x/norm\n",
      "        pointer_y = pointer_y/norm\n",
      "        pointer_z = pointer_z/norm\n",
      "        \n",
      "        norm_pointer = sqrt(pointer_x**2 + pointer_y**2)\n",
      "        norm_all = sqrt(tmp_dir_x**2 + tmp_dir_y**2)\n",
      "        my_norm = sqrt(my_dir_x**2 + my_dir_y**2)\n",
      "\n",
      "        #first compute the angles from the pointing vector with all the clusters besides pivot\n",
      "        cos_theta_pair_2D = (tmp_dir_x*pointer_x + tmp_dir_y*pointer_y)/(norm_all * norm_pointer)\n",
      "        cos_theta_pair_3D = (tmp_dir_x*pointer_x + tmp_dir_y*pointer_y + tmp_dir_z*pointer_z)\n",
      "        \n",
      "        radius_2D = sqrt((my_pos_x - tmp_pos_x)**2 + (my_pos_y-tmp_pos_y)**2)\n",
      "        radius_3D = sqrt((my_pos_x - tmp_pos_x)**2 + (my_pos_y-tmp_pos_y)**2 + (my_pos_z-tmp_pos_z)**2)\n",
      "\n",
      "        dist_pair_2D = append(dist_pair_2D, radius_2D)\n",
      "        cos_theta_pair_all_2D=append(cos_theta_pair_all_2D, cos_theta_pair_2D**2)\n",
      "        dist_pair_3D = append(dist_pair_3D, radius_3D)\n",
      "        cos_theta_pair_all_3D=append(cos_theta_pair_all_3D, cos_theta_pair_3D**2)\n",
      "        \n",
      "        #compute the angles from the pointing vectors with the pivot\n",
      "        cos_theta_pair_2D = (my_dir_x*pointer_x + my_dir_y*pointer_y)/(my_norm * norm_pointer)\n",
      "        cos_theta_pair_3D = (my_dir_x*pointer_x + my_dir_y*pointer_y + my_dir_z*pointer_z)\n",
      "        \n",
      "        radius_2D = sqrt((my_pos_x - tmp_pos_x)**2 + (my_pos_y-tmp_pos_y)**2)\n",
      "        radius_3D = sqrt((my_pos_x - tmp_pos_x)**2 + (my_pos_y-tmp_pos_y)**2 + (my_pos_z-tmp_pos_z)**2)\n",
      "\n",
      "        dist_pair_2D = append(dist_pair_2D, radius_2D)\n",
      "        cos_theta_pair_all_2D=append(cos_theta_pair_all_2D, cos_theta_pair_2D**2)\n",
      "        dist_pair_3D = append(dist_pair_3D, radius_3D)\n",
      "        cos_theta_pair_all_3D=append(cos_theta_pair_all_3D, cos_theta_pair_3D**2)\n",
      "    #    print size(cos_theta_pair_all_3D)\n",
      "        \n",
      "    return dist_pair_2D, cos_theta_pair_all_2D, dist_pair_3D, cos_theta_pair_all_3D"
     ],
     "language": "python",
     "metadata": {},
     "outputs": [],
     "prompt_number": 438
    },
    {
     "cell_type": "code",
     "collapsed": false,
     "input": [],
     "language": "python",
     "metadata": {},
     "outputs": [],
     "prompt_number": 438
    },
    {
     "cell_type": "code",
     "collapsed": false,
     "input": [
      "def final_stats(cos_theta2, r_pair):\n",
      "    min_log_r_array = linspace(0.0,2.0,11)\n",
      "    max_log_r_array = min_log_r_array + 0.2\n",
      "    center_log_r_array = empty((0))\n",
      "    mean_theta2_array = empty((0))\n",
      "    for log_min_r, log_max_r in zip(min_log_r_array, max_log_r_array):\n",
      "        min_r = 10**log_min_r\n",
      "        max_r = 10**log_max_r\n",
      "        index = where((r_pair<max_r) & (r_pair>min_r))\n",
      "  #      print min_r, max_r, size(index)\n",
      "        cos_theta_pair_tmp = cos_theta2[index]\n",
      "        mean_theta2 = mean(cos_theta_pair_tmp)\n",
      "        center_log_r_array = append(center_log_r_array, 0.5*(log_min_r + log_max_r))\n",
      "        mean_theta2_array = append(mean_theta2_array, mean_theta2)\n",
      "    return center_log_r_array, mean_theta2_array"
     ],
     "language": "python",
     "metadata": {},
     "outputs": [],
     "prompt_number": 439
    },
    {
     "cell_type": "code",
     "collapsed": false,
     "input": [
      "r_pair_2D, cos_theta_2_2D, r_pair_3D, cos_theta_2_3D = get_pointing_stats(x_pos, y_pos, z_pos, x_dir, y_dir, z_dir)"
     ],
     "language": "python",
     "metadata": {},
     "outputs": [],
     "prompt_number": 443
    },
    {
     "cell_type": "code",
     "collapsed": false,
     "input": [
      "print shape(r_pair_2D), shape(r_pair_3D), shape(cos_theta_2_2D), shape(cos_theta_2_3D)\n",
      "log_r, mean_theta2 = final_stats(cos_theta_2_2D, r_pair_2D)\n",
      "plot(log_r, mean_theta2)"
     ],
     "language": "python",
     "metadata": {},
     "outputs": [
      {
       "output_type": "stream",
       "stream": "stdout",
       "text": [
        "(516242,) (516242,) (516242,) (516242,)\n"
       ]
      },
      {
       "output_type": "pyout",
       "prompt_number": 444,
       "text": [
        "[<matplotlib.lines.Line2D at 0x1111c8910>]"
       ]
      },
      {
       "output_type": "display_data",
       "png": "[encoded data removed]",
       "text": [
        "<matplotlib.figure.Figure at 0x11036b910>"
       ]
      }
     ],
     "prompt_number": 444
    },
    {
     "cell_type": "code",
     "collapsed": false,
     "input": [
      "min_r = 3.0\n",
      "max_r = 6.0\n",
      "index = where((dist_pair_2D<max_r) & (dist_pair_2D>min_r))\n",
      "print size(index)\n",
      "cos_theta_pair_tmp = cos_theta_pair_all_2D[index]\n",
      "print mean(cos_theta_pair_tmp), std(cos_theta_pair_tmp)\n",
      "n, bins, patches = hist(cos_theta_pair_tmp, 20, normed=1, color = 'silver')"
     ],
     "language": "python",
     "metadata": {},
     "outputs": [
      {
       "output_type": "stream",
       "stream": "stdout",
       "text": [
        "83\n",
        "0.55928730987 0.329950926928\n"
       ]
      },
      {
       "output_type": "display_data",
       "png": "[encoded data removed]",
       "text": [
        "<matplotlib.figure.Figure at 0x122c26910>"
       ]
      }
     ],
     "prompt_number": 348
    },
    {
     "cell_type": "code",
     "collapsed": false,
     "input": [
      "min_r = 0.0\n",
      "max_r = 2.0\n",
      "index = where((dist_pair_2D<max_r) & (dist_pair_2D>min_r))\n",
      "print size(index)\n",
      "cos_theta_pair_tmp = cos_theta_pair_all_3D[index]\n",
      "print mean(cos_theta_pair_tmp), std(cos_theta_pair_tmp)\n",
      "n, bins, patches = hist(cos_theta_pair_tmp, 20, normed=1, color = 'silver')"
     ],
     "language": "python",
     "metadata": {},
     "outputs": [
      {
       "output_type": "stream",
       "stream": "stdout",
       "text": [
        "706\n",
        "0.40543053076 0.326636472959\n"
       ]
      },
      {
       "output_type": "display_data",
       "png": "[encoded data removed]",
       "text": [
        "<matplotlib.figure.Figure at 0x1102f7450>"
       ]
      }
     ],
     "prompt_number": 286
    },
    {
     "cell_type": "code",
     "collapsed": false,
     "input": [
      "n, bins, patches = hist(dist_pair_2D, 20, normed=1, color = 'silver')"
     ],
     "language": "python",
     "metadata": {},
     "outputs": [
      {
       "output_type": "display_data",
       "png": "[encoded data removed]",
       "text": [
        "<matplotlib.figure.Figure at 0x10df81a10>"
       ]
      }
     ],
     "prompt_number": 288
    },
    {
     "cell_type": "code",
     "collapsed": false,
     "input": [
      "n_points = 30000\n",
      "phi = 2.0*pi*random.random(n_points)\n",
      "theta = arccos((random.random(n_points)-0.5)*2.0)\n",
      "rand_x = sin(theta)*cos(phi)\n",
      "rand_y = sin(theta)*sin(phi)\n",
      "rand_z = cos(theta)"
     ],
     "language": "python",
     "metadata": {},
     "outputs": [],
     "prompt_number": 295
    },
    {
     "cell_type": "code",
     "collapsed": false,
     "input": [
      "cos_angle_3D = (rand_x[1:]*rand_x[0] + rand_y[1:]*rand_y[0] + rand_z[1:]*rand_z[0])**2"
     ],
     "language": "python",
     "metadata": {},
     "outputs": [],
     "prompt_number": 296
    },
    {
     "cell_type": "code",
     "collapsed": false,
     "input": [
      "n, bins, patches = hist(cos_angle_3D, 30, normed=1, color = 'silver')"
     ],
     "language": "python",
     "metadata": {},
     "outputs": [
      {
       "output_type": "display_data",
       "png": "[encoded data removed]",
       "text": [
        "<matplotlib.figure.Figure at 0x1102a7bd0>"
       ]
      }
     ],
     "prompt_number": 298
    },
    {
     "cell_type": "code",
     "collapsed": false,
     "input": [
      "print mean(cos_angle)"
     ],
     "language": "python",
     "metadata": {},
     "outputs": [
      {
       "output_type": "stream",
       "stream": "stdout",
       "text": [
        "0.325216037308\n"
       ]
      }
     ],
     "prompt_number": 299
    },
    {
     "cell_type": "code",
     "collapsed": false,
     "input": [
      "norm_all = sqrt(rand_x[1:]**2 + rand_y[1:]**2)\n",
      "norm_one = sqrt(rand_x[0]**2 + rand_y[0]**2)\n",
      "cos_angle_2D = ((rand_x[1:]*rand_x[0] + rand_y[1:]*rand_y[0])/(norm_all * norm_one))**2"
     ],
     "language": "python",
     "metadata": {},
     "outputs": [],
     "prompt_number": 300
    },
    {
     "cell_type": "code",
     "collapsed": false,
     "input": [
      "n, bins, patches = hist(cos_angle_2D, 30, normed=1, color = 'silver')"
     ],
     "language": "python",
     "metadata": {},
     "outputs": [
      {
       "output_type": "display_data",
       "png": "[encoded data removed]",
       "text": [
        "<matplotlib.figure.Figure at 0x118d84e90>"
       ]
      }
     ],
     "prompt_number": 302
    },
    {
     "cell_type": "code",
     "collapsed": false,
     "input": [
      "n, bins, patches = hist(axis_ratio_2_1, 30, normed=1, color = 'silver')"
     ],
     "language": "python",
     "metadata": {},
     "outputs": [
      {
       "output_type": "display_data",
       "png": "[encoded data removed]",
       "text": [
        "<matplotlib.figure.Figure at 0x118d9ca10>"
       ]
      }
     ],
     "prompt_number": 313
    },
    {
     "cell_type": "code",
     "collapsed": false,
     "input": [
      "def test(n_points):\n",
      "    a =arange(n_points)\n",
      "    b = arange(n_points)\n",
      "    c = arange(n_points)\n",
      "    return a,b,c"
     ],
     "language": "python",
     "metadata": {},
     "outputs": [],
     "prompt_number": 375
    },
    {
     "cell_type": "code",
     "collapsed": false,
     "input": [
      "l, n,m = test(3)\n",
      "print l, m, n"
     ],
     "language": "python",
     "metadata": {},
     "outputs": [
      {
       "output_type": "stream",
       "stream": "stdout",
       "text": [
        " [0 1 2] [0 1 2] [0 1 2]\n"
       ]
      }
     ],
     "prompt_number": 378
    },
    {
     "cell_type": "code",
     "collapsed": false,
     "input": [],
     "language": "python",
     "metadata": {},
     "outputs": []
    }
   ],
   "metadata": {}
  }
 ]
}